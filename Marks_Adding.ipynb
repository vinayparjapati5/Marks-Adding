{
  "nbformat": 4,
  "nbformat_minor": 0,
  "metadata": {
    "colab": {
      "provenance": [],
      "authorship_tag": "ABX9TyNESJbohP35NmtbFIeNpR1G",
      "include_colab_link": true
    },
    "kernelspec": {
      "name": "python3",
      "display_name": "Python 3"
    },
    "language_info": {
      "name": "python"
    }
  },
  "cells": [
    {
      "cell_type": "markdown",
      "metadata": {
        "id": "view-in-github",
        "colab_type": "text"
      },
      "source": [
        "<a href=\"https://colab.research.google.com/github/vinayparjapati5/Marks-Adding/blob/main/Marks_Adding.ipynb\" target=\"_parent\"><img src=\"https://colab.research.google.com/assets/colab-badge.svg\" alt=\"Open In Colab\"/></a>"
      ]
    },
    {
      "cell_type": "markdown",
      "source": [
        "---\n",
        "# **Mini Project : Marks Adding**\n",
        "---"
      ],
      "metadata": {
        "id": "NeFyyO-h-sRZ"
      }
    },
    {
      "cell_type": "markdown",
      "source": [
        "---\n",
        "### Importing Libraries\n",
        "---"
      ],
      "metadata": {
        "id": "ZpHz7mLW_LrZ"
      }
    },
    {
      "cell_type": "code",
      "source": [
        "import csv\n",
        "import pandas as pd"
      ],
      "metadata": {
        "id": "LN4E6foP-uGL"
      },
      "execution_count": 1,
      "outputs": []
    },
    {
      "cell_type": "markdown",
      "source": [
        "---\n",
        "### Read input file & Creating a final dictionary with total marks\n",
        "---"
      ],
      "metadata": {
        "id": "jcHTZ5GE_eVs"
      }
    },
    {
      "cell_type": "code",
      "source": [
        "final_marks ={}\n",
        "with open('/content/Mini Project - Marks Adding.csv','r') as file:\n",
        "  csvreader = csv.reader(file)\n",
        "  for i in csvreader:\n",
        "    try:\n",
        "      final_marks[i[0]] = int(final_marks[i[0]]) + int(i[1])\n",
        "    except:\n",
        "      final_marks[i[0]] = (i[1])"
      ],
      "metadata": {
        "id": "ddZFfPbS_psz"
      },
      "execution_count": 2,
      "outputs": []
    },
    {
      "cell_type": "markdown",
      "source": [
        "---\n",
        "### Printing final marks to user\n",
        "---"
      ],
      "metadata": {
        "id": "gKhrYY8dArSz"
      }
    },
    {
      "cell_type": "code",
      "source": [
        "final = pd.Series(final_marks)\n",
        "print(final)"
      ],
      "metadata": {
        "colab": {
          "base_uri": "https://localhost:8080/"
        },
        "id": "JWk9f8uwAxV5",
        "outputId": "43327e70-553a-4974-ce34-1bc7b2cb5666"
      },
      "execution_count": 3,
      "outputs": [
        {
          "output_type": "stream",
          "name": "stdout",
          "text": [
            "Roll Num     Marks\n",
            "102003542        4\n",
            "102003640        5\n",
            "102003725        5\n",
            "102003307        4\n",
            "             ...  \n",
            "102017150        4\n",
            "102003690        1\n",
            "102003149        2\n",
            "102003089        1\n",
            "102180347        1\n",
            "Length: 401, dtype: object\n"
          ]
        }
      ]
    },
    {
      "cell_type": "markdown",
      "source": [
        "---\n",
        "### Creating an output file for user to store\n",
        "---"
      ],
      "metadata": {
        "id": "kLCOjh19BVk7"
      }
    },
    {
      "cell_type": "code",
      "source": [
        "field_names =['Roll_no','Marks']\n",
        "rows = [{'Roll_no': key,'Marks':value} for key,value in final_marks.items()]\n",
        "with open('Total marks.csv','w') as csvfile:\n",
        "  writer = csv.DictWriter(csvfile, fieldnames= field_names)\n",
        "  writer.writeheader()\n",
        "  writer.writerows(rows)"
      ],
      "metadata": {
        "id": "3AAC3eY9Bg0Y"
      },
      "execution_count": 6,
      "outputs": []
    }
  ]
}